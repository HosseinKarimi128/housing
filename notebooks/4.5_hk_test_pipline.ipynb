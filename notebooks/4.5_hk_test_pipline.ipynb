{
 "cells": [
  {
   "cell_type": "code",
   "execution_count": 1,
   "outputs": [
    {
     "data": {
      "text/plain": "     MSSubClass  OverallQual  OverallCond    Id        lat        long  \\\n0            85            6            7   616  42.176486 -110.187507   \n1            20            5            5   614  43.709430  -98.029800   \n2            20            7            5  1304  40.507163  -74.500510   \n3            20            5            7   487  42.176486 -110.187507   \n4            20            5            5   562  43.709430  -98.029800   \n..          ...          ...          ...   ...        ...         ...   \n973          20            6            5  1096  51.544570   -0.174980   \n974          50            4            3  1131 -12.819233  -50.657067   \n975          20            5            7  1295  39.628429 -106.630263   \n976          50            7            8   861  41.557547  -74.315519   \n977         120            7            5  1127  36.563158  -82.538432   \n\n     LotFrontage   LotArea  YearBuilt  YearRemodAdd  ...  \\\n0       0.410815 -0.168264  -0.260504     -1.052964  ...   \n1      -0.001137 -0.202722   1.170987      1.067550  ...   \n2       0.122448 -0.177961   1.105920      0.971163  ...   \n3       0.369620 -0.039349  -0.195436     -0.956577  ...   \n4       0.287229 -0.063504   0.097369     -0.474642  ...   \n..           ...       ...        ...           ...  ...   \n973     0.328425 -0.123503   1.138453      1.019356  ...   \n974    -0.207114 -0.254495  -1.399190     -1.679479  ...   \n975    -0.413090 -0.222635  -0.520775      0.248261  ...   \n976    -0.619066 -0.268521  -1.724529      0.633808  ...   \n977    -0.701456 -0.611197   1.170987      1.067550  ...   \n\n     Neighborhood: nridght  Neighborhood: nwames  Neighborhood: oldtown  \\\n0                      0.0                   0.0                    0.0   \n1                      0.0                   0.0                    0.0   \n2                      0.0                   0.0                    0.0   \n3                      0.0                   0.0                    0.0   \n4                      0.0                   0.0                    0.0   \n..                     ...                   ...                    ...   \n973                    0.0                   0.0                    0.0   \n974                    0.0                   0.0                    0.0   \n975                    0.0                   0.0                    0.0   \n976                    0.0                   0.0                    0.0   \n977                    0.0                   0.0                    0.0   \n\n     Neighborhood: sawyer  Neighborhood: sawyerw  Neighborhood: somerst  \\\n0                     0.0                    0.0                    0.0   \n1                     0.0                    0.0                    0.0   \n2                     0.0                    0.0                    1.0   \n3                     0.0                    0.0                    0.0   \n4                     0.0                    0.0                    0.0   \n..                    ...                    ...                    ...   \n973                   0.0                    0.0                    0.0   \n974                   0.0                    0.0                    0.0   \n975                   0.0                    0.0                    0.0   \n976                   0.0                    0.0                    0.0   \n977                   0.0                    0.0                    0.0   \n\n     Neighborhood: stonebr  Neighborhood: swisu  Neighborhood: timber  \\\n0                      0.0                  0.0                   0.0   \n1                      0.0                  0.0                   0.0   \n2                      0.0                  0.0                   0.0   \n3                      0.0                  0.0                   0.0   \n4                      0.0                  0.0                   0.0   \n..                     ...                  ...                   ...   \n973                    0.0                  0.0                   0.0   \n974                    0.0                  1.0                   0.0   \n975                    0.0                  0.0                   0.0   \n976                    0.0                  0.0                   0.0   \n977                    0.0                  0.0                   0.0   \n\n     Neighborhood: veenker  \n0                      0.0  \n1                      0.0  \n2                      0.0  \n3                      0.0  \n4                      0.0  \n..                     ...  \n973                    0.0  \n974                    0.0  \n975                    0.0  \n976                    0.0  \n977                    0.0  \n\n[978 rows x 302 columns]",
      "text/html": "<div>\n<style scoped>\n    .dataframe tbody tr th:only-of-type {\n        vertical-align: middle;\n    }\n\n    .dataframe tbody tr th {\n        vertical-align: top;\n    }\n\n    .dataframe thead th {\n        text-align: right;\n    }\n</style>\n<table border=\"1\" class=\"dataframe\">\n  <thead>\n    <tr style=\"text-align: right;\">\n      <th></th>\n      <th>MSSubClass</th>\n      <th>OverallQual</th>\n      <th>OverallCond</th>\n      <th>Id</th>\n      <th>lat</th>\n      <th>long</th>\n      <th>LotFrontage</th>\n      <th>LotArea</th>\n      <th>YearBuilt</th>\n      <th>YearRemodAdd</th>\n      <th>...</th>\n      <th>Neighborhood: nridght</th>\n      <th>Neighborhood: nwames</th>\n      <th>Neighborhood: oldtown</th>\n      <th>Neighborhood: sawyer</th>\n      <th>Neighborhood: sawyerw</th>\n      <th>Neighborhood: somerst</th>\n      <th>Neighborhood: stonebr</th>\n      <th>Neighborhood: swisu</th>\n      <th>Neighborhood: timber</th>\n      <th>Neighborhood: veenker</th>\n    </tr>\n  </thead>\n  <tbody>\n    <tr>\n      <th>0</th>\n      <td>85</td>\n      <td>6</td>\n      <td>7</td>\n      <td>616</td>\n      <td>42.176486</td>\n      <td>-110.187507</td>\n      <td>0.410815</td>\n      <td>-0.168264</td>\n      <td>-0.260504</td>\n      <td>-1.052964</td>\n      <td>...</td>\n      <td>0.0</td>\n      <td>0.0</td>\n      <td>0.0</td>\n      <td>0.0</td>\n      <td>0.0</td>\n      <td>0.0</td>\n      <td>0.0</td>\n      <td>0.0</td>\n      <td>0.0</td>\n      <td>0.0</td>\n    </tr>\n    <tr>\n      <th>1</th>\n      <td>20</td>\n      <td>5</td>\n      <td>5</td>\n      <td>614</td>\n      <td>43.709430</td>\n      <td>-98.029800</td>\n      <td>-0.001137</td>\n      <td>-0.202722</td>\n      <td>1.170987</td>\n      <td>1.067550</td>\n      <td>...</td>\n      <td>0.0</td>\n      <td>0.0</td>\n      <td>0.0</td>\n      <td>0.0</td>\n      <td>0.0</td>\n      <td>0.0</td>\n      <td>0.0</td>\n      <td>0.0</td>\n      <td>0.0</td>\n      <td>0.0</td>\n    </tr>\n    <tr>\n      <th>2</th>\n      <td>20</td>\n      <td>7</td>\n      <td>5</td>\n      <td>1304</td>\n      <td>40.507163</td>\n      <td>-74.500510</td>\n      <td>0.122448</td>\n      <td>-0.177961</td>\n      <td>1.105920</td>\n      <td>0.971163</td>\n      <td>...</td>\n      <td>0.0</td>\n      <td>0.0</td>\n      <td>0.0</td>\n      <td>0.0</td>\n      <td>0.0</td>\n      <td>1.0</td>\n      <td>0.0</td>\n      <td>0.0</td>\n      <td>0.0</td>\n      <td>0.0</td>\n    </tr>\n    <tr>\n      <th>3</th>\n      <td>20</td>\n      <td>5</td>\n      <td>7</td>\n      <td>487</td>\n      <td>42.176486</td>\n      <td>-110.187507</td>\n      <td>0.369620</td>\n      <td>-0.039349</td>\n      <td>-0.195436</td>\n      <td>-0.956577</td>\n      <td>...</td>\n      <td>0.0</td>\n      <td>0.0</td>\n      <td>0.0</td>\n      <td>0.0</td>\n      <td>0.0</td>\n      <td>0.0</td>\n      <td>0.0</td>\n      <td>0.0</td>\n      <td>0.0</td>\n      <td>0.0</td>\n    </tr>\n    <tr>\n      <th>4</th>\n      <td>20</td>\n      <td>5</td>\n      <td>5</td>\n      <td>562</td>\n      <td>43.709430</td>\n      <td>-98.029800</td>\n      <td>0.287229</td>\n      <td>-0.063504</td>\n      <td>0.097369</td>\n      <td>-0.474642</td>\n      <td>...</td>\n      <td>0.0</td>\n      <td>0.0</td>\n      <td>0.0</td>\n      <td>0.0</td>\n      <td>0.0</td>\n      <td>0.0</td>\n      <td>0.0</td>\n      <td>0.0</td>\n      <td>0.0</td>\n      <td>0.0</td>\n    </tr>\n    <tr>\n      <th>...</th>\n      <td>...</td>\n      <td>...</td>\n      <td>...</td>\n      <td>...</td>\n      <td>...</td>\n      <td>...</td>\n      <td>...</td>\n      <td>...</td>\n      <td>...</td>\n      <td>...</td>\n      <td>...</td>\n      <td>...</td>\n      <td>...</td>\n      <td>...</td>\n      <td>...</td>\n      <td>...</td>\n      <td>...</td>\n      <td>...</td>\n      <td>...</td>\n      <td>...</td>\n      <td>...</td>\n    </tr>\n    <tr>\n      <th>973</th>\n      <td>20</td>\n      <td>6</td>\n      <td>5</td>\n      <td>1096</td>\n      <td>51.544570</td>\n      <td>-0.174980</td>\n      <td>0.328425</td>\n      <td>-0.123503</td>\n      <td>1.138453</td>\n      <td>1.019356</td>\n      <td>...</td>\n      <td>0.0</td>\n      <td>0.0</td>\n      <td>0.0</td>\n      <td>0.0</td>\n      <td>0.0</td>\n      <td>0.0</td>\n      <td>0.0</td>\n      <td>0.0</td>\n      <td>0.0</td>\n      <td>0.0</td>\n    </tr>\n    <tr>\n      <th>974</th>\n      <td>50</td>\n      <td>4</td>\n      <td>3</td>\n      <td>1131</td>\n      <td>-12.819233</td>\n      <td>-50.657067</td>\n      <td>-0.207114</td>\n      <td>-0.254495</td>\n      <td>-1.399190</td>\n      <td>-1.679479</td>\n      <td>...</td>\n      <td>0.0</td>\n      <td>0.0</td>\n      <td>0.0</td>\n      <td>0.0</td>\n      <td>0.0</td>\n      <td>0.0</td>\n      <td>0.0</td>\n      <td>1.0</td>\n      <td>0.0</td>\n      <td>0.0</td>\n    </tr>\n    <tr>\n      <th>975</th>\n      <td>20</td>\n      <td>5</td>\n      <td>7</td>\n      <td>1295</td>\n      <td>39.628429</td>\n      <td>-106.630263</td>\n      <td>-0.413090</td>\n      <td>-0.222635</td>\n      <td>-0.520775</td>\n      <td>0.248261</td>\n      <td>...</td>\n      <td>0.0</td>\n      <td>0.0</td>\n      <td>0.0</td>\n      <td>0.0</td>\n      <td>0.0</td>\n      <td>0.0</td>\n      <td>0.0</td>\n      <td>0.0</td>\n      <td>0.0</td>\n      <td>0.0</td>\n    </tr>\n    <tr>\n      <th>976</th>\n      <td>50</td>\n      <td>7</td>\n      <td>8</td>\n      <td>861</td>\n      <td>41.557547</td>\n      <td>-74.315519</td>\n      <td>-0.619066</td>\n      <td>-0.268521</td>\n      <td>-1.724529</td>\n      <td>0.633808</td>\n      <td>...</td>\n      <td>0.0</td>\n      <td>0.0</td>\n      <td>0.0</td>\n      <td>0.0</td>\n      <td>0.0</td>\n      <td>0.0</td>\n      <td>0.0</td>\n      <td>0.0</td>\n      <td>0.0</td>\n      <td>0.0</td>\n    </tr>\n    <tr>\n      <th>977</th>\n      <td>120</td>\n      <td>7</td>\n      <td>5</td>\n      <td>1127</td>\n      <td>36.563158</td>\n      <td>-82.538432</td>\n      <td>-0.701456</td>\n      <td>-0.611197</td>\n      <td>1.170987</td>\n      <td>1.067550</td>\n      <td>...</td>\n      <td>0.0</td>\n      <td>0.0</td>\n      <td>0.0</td>\n      <td>0.0</td>\n      <td>0.0</td>\n      <td>0.0</td>\n      <td>0.0</td>\n      <td>0.0</td>\n      <td>0.0</td>\n      <td>0.0</td>\n    </tr>\n  </tbody>\n</table>\n<p>978 rows × 302 columns</p>\n</div>"
     },
     "execution_count": 1,
     "metadata": {},
     "output_type": "execute_result"
    }
   ],
   "source": [
    "from src.preprocess.TransformerPipeLine import TransformerPipeLine\n",
    "transform_pipe_line = TransformerPipeLine(\"x_train\")\n",
    "import pandas as pd\n",
    "data = pd.read_csv(\"C:/Users\\h.karimi\\Documents\\pprojects\\housing_hw\\data\\external/train.csv\")\n",
    "new_data = transform_pipe_line.fit_transform(data)\n",
    "new_data"
   ],
   "metadata": {
    "collapsed": false,
    "pycharm": {
     "name": "#%%\n"
    }
   }
  },
  {
   "cell_type": "code",
   "execution_count": null,
   "outputs": [],
   "source": [],
   "metadata": {
    "collapsed": false,
    "pycharm": {
     "name": "#%%\n"
    }
   }
  }
 ],
 "metadata": {
  "kernelspec": {
   "display_name": "Python 3",
   "language": "python",
   "name": "python3"
  },
  "language_info": {
   "codemirror_mode": {
    "name": "ipython",
    "version": 2
   },
   "file_extension": ".py",
   "mimetype": "text/x-python",
   "name": "python",
   "nbconvert_exporter": "python",
   "pygments_lexer": "ipython2",
   "version": "2.7.6"
  }
 },
 "nbformat": 4,
 "nbformat_minor": 0
}